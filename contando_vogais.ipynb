{
 "cells": [
  {
   "cell_type": "code",
   "execution_count": 17,
   "metadata": {},
   "outputs": [
    {
     "name": "stdout",
     "output_type": "stream",
     "text": [
      "O número de vogais no 'refrão_musica.txt' é: 19\n"
     ]
    }
   ],
   "source": [
    "# Função para contar o número de vogais no texto\n",
    "def contar_vogais(texto):\n",
    "    vogais = \"AEIOUaeiou\"\n",
    "    contador = 0\n",
    "    for letra in texto:\n",
    "        if letra in vogais:\n",
    "            contador += 1\n",
    "    return contador\n",
    "\n",
    "nome_arquivo = \"refrão_musica.txt\" \n",
    "\n",
    "try:\n",
    "    with open(nome_arquivo, 'r', encoding='utf-8') as arquivo:\n",
    "        conteudo = arquivo.read()\n",
    "\n",
    "        num_vogais = contar_vogais(conteudo)\n",
    "\n",
    "        print(f\"O número de vogais no '{nome_arquivo}' é: {num_vogais}\")\n",
    "except FileNotFoundError:\n",
    "    print(f\"Arquivo '{nome_arquivo}' não encontrado.\")\n",
    "except Exception as e:\n",
    "    print(f\"Ocorreu um erro: {str(e)}\")"
   ]
  },
  {
   "cell_type": "markdown",
   "metadata": {},
   "source": []
  },
  {
   "cell_type": "markdown",
   "metadata": {},
   "source": []
  }
 ],
 "metadata": {
  "kernelspec": {
   "display_name": "Python 3",
   "language": "python",
   "name": "python3"
  },
  "language_info": {
   "codemirror_mode": {
    "name": "ipython",
    "version": 3
   },
   "file_extension": ".py",
   "mimetype": "text/x-python",
   "name": "python",
   "nbconvert_exporter": "python",
   "pygments_lexer": "ipython3",
   "version": "3.11.4"
  },
  "orig_nbformat": 4
 },
 "nbformat": 4,
 "nbformat_minor": 2
}
